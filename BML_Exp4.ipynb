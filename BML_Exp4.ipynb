{
  "nbformat": 4,
  "nbformat_minor": 0,
  "metadata": {
    "colab": {
      "provenance": [],
      "authorship_tag": "ABX9TyNskwLLrE8jEfX/uvOESI2d",
      "include_colab_link": true
    },
    "kernelspec": {
      "name": "python3",
      "display_name": "Python 3"
    },
    "language_info": {
      "name": "python"
    }
  },
  "cells": [
    {
      "cell_type": "markdown",
      "metadata": {
        "id": "view-in-github",
        "colab_type": "text"
      },
      "source": [
        "<a href=\"https://colab.research.google.com/github/JohnFarlander/ML_Practicals/blob/main/BML_Exp4.ipynb\" target=\"_parent\"><img src=\"https://colab.research.google.com/assets/colab-badge.svg\" alt=\"Open In Colab\"/></a>"
      ]
    },
    {
      "cell_type": "markdown",
      "source": [
        "Binomial Logostic Regression"
      ],
      "metadata": {
        "id": "lJHO7dw6qk6-"
      }
    },
    {
      "cell_type": "code",
      "execution_count": null,
      "metadata": {
        "colab": {
          "base_uri": "https://localhost:8080/"
        },
        "id": "GCtAmrO4chSB",
        "outputId": "b959de3d-8a19-446f-eace-5c64979aafd8"
      },
      "outputs": [
        {
          "output_type": "stream",
          "name": "stdout",
          "text": [
            "Logistic Regression model accuracy: 96.49%\n"
          ]
        }
      ],
      "source": [
        "from sklearn.datasets import load_breast_cancer\n",
        "from sklearn.linear_model import LogisticRegression\n",
        "from sklearn.model_selection import train_test_split\n",
        "from sklearn.metrics import accuracy_score\n",
        "\n",
        "X, y = load_breast_cancer(return_X_y=True)\n",
        "\n",
        "X_train, X_test, y_train, y_test = train_test_split(X, y, test_size=0.20, random_state=23)\n",
        "\n",
        "clf = LogisticRegression(max_iter=10000, random_state=0)\n",
        "clf.fit(X_train, y_train)\n",
        "\n",
        "acc = accuracy_score(y_test, clf.predict(X_test)) * 100\n",
        "print(f\"Logistic Regression model accuracy: {acc:.2f}%\")"
      ]
    },
    {
      "cell_type": "markdown",
      "source": [
        "Multinomial Logistic Regresstion"
      ],
      "metadata": {
        "id": "6YBinIMtoWwe"
      }
    },
    {
      "cell_type": "code",
      "source": [
        "from sklearn.model_selection import train_test_split\n",
        "from sklearn import datasets, linear_model, metrics\n",
        "\n",
        "digits = datasets.load_digits()\n",
        "\n",
        "X = digits.data\n",
        "y = digits.target\n",
        "\n",
        "X_train, X_test, y_train, y_test = train_test_split(X, y, test_size=0.4, random_state=1)\n",
        "\n",
        "reg = linear_model.LogisticRegression(max_iter=10000, random_state=0)\n",
        "reg.fit(X_train, y_train)\n",
        "\n",
        "y_pred = reg.predict(X_test)\n",
        "\n",
        "print(f\"Logistic Regression model accuracy: {metrics.accuracy_score(y_test, y_pred) * 100:.2f}%\")"
      ],
      "metadata": {
        "colab": {
          "base_uri": "https://localhost:8080/"
        },
        "id": "46XrQvrxob_e",
        "outputId": "767282b9-7568-443f-ee16-09e9847cba2a"
      },
      "execution_count": null,
      "outputs": [
        {
          "output_type": "stream",
          "name": "stdout",
          "text": [
            "Logistic Regression model accuracy: 96.66%\n"
          ]
        }
      ]
    },
    {
      "cell_type": "markdown",
      "source": [
        "Manual Implementation Of Logistic Regression"
      ],
      "metadata": {
        "id": "SbDDrC4uohqv"
      }
    },
    {
      "cell_type": "code",
      "source": [
        "import numpy as np\n",
        "# Example \"Breast Cancer-like\" dataset\n",
        "X = np.array([\n",
        "    [2.5, 1.5], [3.5, 2.1],[1.3, 0.8],[4.0, 3.0],\n",
        "    [3.2, 2.8],[5.5, 4.2],[6.0, 4.8],[7.1, 5.2]\n",
        "])\n",
        "\n",
        "y = np.array([[0], [0], [0], [1], [1], [1], [1], [1]])\n",
        "# Preprocess: Add bias term\n",
        "X = np.hstack((np.ones((X.shape[0],1)), X))\n",
        "\n",
        "# Sigmoid func\n",
        "def sigmoid(z):\n",
        "    return 1 / (1 + np.exp(-z))\n",
        "\n",
        "# Cost function\n",
        "def compute_cost(X, y, weights):\n",
        "    m = len(y)\n",
        "    h = sigmoid(X @ weights)\n",
        "    cost = (-1/m) * (y.T @ np.log(h+1e-9) + (1-y).T @ np.log(1-h+1e-9))\n",
        "    return cost[0][0]\n",
        "\n",
        "# Train with Gradient Descent\n",
        "def train_logistic_regression(X, y, lr=0.1, epochs=2000):\n",
        "    m, n = X.shape\n",
        "    weights = np.zeros((n,1))\n",
        "    for i in range(epochs):\n",
        "        h = sigmoid(X @ weights)\n",
        "        gradient = (1/m) * (X.T @ (h - y))\n",
        "        weights -= lr * gradient\n",
        "        if i % 500 == 0:\n",
        "            print(f\"Epoch {i} | Cost: {compute_cost(X,y,weights):.4f}\")\n",
        "    return weights\n",
        "\n",
        "# Prediction function\n",
        "def predict(X, weights):\n",
        "    return (sigmoid(X @ weights) >= 0.5).astype(int)\n",
        "\n",
        "# Run training\n",
        "weights = train_logistic_regression(X, y, lr=0.1, epochs=2000)\n",
        "\n",
        "# Predictions\n",
        "y_pred = predict(X, weights)\n",
        "\n",
        "print(\"\\nFinal Weights:\\n\", weights)\n",
        "print(\"Predictions:\", y_pred.T)\n",
        "print(\"Actual:\", y.T)\n",
        "print(\"Accuracy:\", np.mean(y_pred == y) * 100, \"%\")\n"
      ],
      "metadata": {
        "colab": {
          "base_uri": "https://localhost:8080/"
        },
        "id": "W-66YIoIolJt",
        "outputId": "0e42e27e-20a6-4ecd-8d19-f0e0114e3b47"
      },
      "execution_count": null,
      "outputs": [
        {
          "output_type": "stream",
          "name": "stdout",
          "text": [
            "Epoch 0 | Cost: 0.5517\n",
            "Epoch 500 | Cost: 0.1614\n",
            "Epoch 1000 | Cost: 0.0968\n",
            "Epoch 1500 | Cost: 0.0696\n",
            "\n",
            "Final Weights:\n",
            " [[-5.05566611]\n",
            " [-2.3716942 ]\n",
            " [ 5.53493475]]\n",
            "Predictions: [[0 0 0 1 1 1 1 1]]\n",
            "Actual: [[0 0 0 1 1 1 1 1]]\n",
            "Accuracy: 100.0 %\n"
          ]
        }
      ]
    }
  ]
}