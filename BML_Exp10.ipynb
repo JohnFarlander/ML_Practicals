{
  "nbformat": 4,
  "nbformat_minor": 0,
  "metadata": {
    "colab": {
      "provenance": [],
      "authorship_tag": "ABX9TyP2w+giWc1KCEKK/leq/wUe",
      "include_colab_link": true
    },
    "kernelspec": {
      "name": "python3",
      "display_name": "Python 3"
    },
    "language_info": {
      "name": "python"
    }
  },
  "cells": [
    {
      "cell_type": "markdown",
      "metadata": {
        "id": "view-in-github",
        "colab_type": "text"
      },
      "source": [
        "<a href=\"https://colab.research.google.com/github/JohnFarlander/ML_Practicals/blob/main/BML_Exp10.ipynb\" target=\"_parent\"><img src=\"https://colab.research.google.com/assets/colab-badge.svg\" alt=\"Open In Colab\"/></a>"
      ]
    },
    {
      "cell_type": "code",
      "source": [
        "import numpy as np\n",
        "import pandas as pd\n",
        "\n",
        "# Original data\n",
        "X = np.array([\n",
        "    [4, 11],\n",
        "    [8, 4],\n",
        "    [13, 5],\n",
        "    [7, 14]\n",
        "])\n",
        "\n",
        "# Step 1: Center the data\n",
        "X_meaned = X - np.mean(X, axis=0)\n",
        "\n",
        "# Step 2: Compute covariance matrix\n",
        "cov_matrix = np.cov(X_meaned.T)\n",
        "\n",
        "# Step 3: Compute eigenvalues and eigenvectors\n",
        "eigenvalues, eigenvectors = np.linalg.eig(cov_matrix)\n",
        "\n",
        "# Step 4: Sort eigenvectors by eigenvalue (descending)\n",
        "sorted_idx = np.argsort(eigenvalues)[::-1]\n",
        "eigenvectors = eigenvectors[:, sorted_idx]\n",
        "eigenvalues = eigenvalues[sorted_idx]\n",
        "\n",
        "# Step 5: Project data onto first principal component\n",
        "PC1 = np.dot(X_meaned, eigenvectors[:, 0])\n",
        "\n",
        "# Step 6: Display formatted output\n",
        "df = pd.DataFrame({\n",
        "    'X₁': X[:, 0],\n",
        "    'X₂': X[:, 1],\n",
        "    'First Principal Component': np.round(PC1, 4)\n",
        "}).T\n",
        "\n",
        "print(df)\n"
      ],
      "metadata": {
        "colab": {
          "base_uri": "https://localhost:8080/"
        },
        "id": "U9mq7W5CAQDK",
        "outputId": "2fbf9160-6cce-42fb-8fd8-02adc3266d69"
      },
      "execution_count": 11,
      "outputs": [
        {
          "output_type": "stream",
          "name": "stdout",
          "text": [
            "                                 0       1        2        3\n",
            "X₁                          4.0000  8.0000  13.0000   7.0000\n",
            "X₂                         11.0000  4.0000   5.0000  14.0000\n",
            "First Principal Component  -4.3052  3.7361   5.6928  -5.1238\n"
          ]
        }
      ]
    }
  ]
}